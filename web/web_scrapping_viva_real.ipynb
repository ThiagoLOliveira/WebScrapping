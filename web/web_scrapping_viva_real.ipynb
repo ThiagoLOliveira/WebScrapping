{
  "cells": [
    {
      "cell_type": "code",
      "execution_count": 12,
      "metadata": {
        "colab": {
          "base_uri": "https://localhost:8080/",
          "height": 332
        },
        "id": "PRuARywy6YsO",
        "outputId": "1089ba48-2415-49b4-d365-f78d9ff18ddd"
      },
      "outputs": [],
      "source": [
        "from selenium import webdriver\n",
        "from selenium.webdriver.chrome.service import Service\n",
        "from selenium.webdriver.chrome.options import Options\n",
        "from selenium.webdriver.common.by import By\n",
        "from time import sleep\n",
        "import pandas as pd\n",
        "from tqdm import tqdm"
      ]
    },
    {
      "cell_type": "code",
      "execution_count": 8,
      "metadata": {
        "id": "YLe4yVb4_L5B"
      },
      "outputs": [],
      "source": [
        "options = webdriver.ChromeOptions()\n",
        "options.add_argument('--headless')\n",
        "options.add_argument('--no-sandbox')\n",
        "options.add_argument('--disable-dev-shm-usage')\n",
        "driver = webdriver.Chrome(options=options)"
      ]
    },
    {
      "cell_type": "code",
      "execution_count": 9,
      "metadata": {
        "id": "IhoNj-XQ6mTp"
      },
      "outputs": [],
      "source": [
        "#links e classes\n",
        "VIVA_REAL_LINK = 'https://www.vivareal.com.br/aluguel/sp/sao-paulo/apartamento_residencial/'\n",
        "RESULT_LIST_CLASS = 'results-list'\n",
        "ADDRESS_CLASS = 'property-card__address'\n",
        "AREA_CLASS = 'property-card__detail-area'\n",
        "ROOM_CLASS = 'property-card__detail-room'\n",
        "BATHROOM_CLASS = 'property-card__detail-bathroom'\n",
        "GARAGE_CLASS = 'property-card__detail-garage'\n",
        "AMENITIES_CLASS = 'property-card__amenities'\n",
        "PRICE_CLASS = 'property-card__price'\n",
        "CONDO_CLASS = 'js-condo-price'\n",
        "VALUE_CLASS = 'property-card__detail-value'\n",
        "CHANGE_PAGE_XPATH = \"//a[@title='Próxima página']\""
      ]
    },
    {
      "cell_type": "code",
      "execution_count": 13,
      "metadata": {
        "id": "USDO_HXMBeeB"
      },
      "outputs": [
        {
          "name": "stderr",
          "output_type": "stream",
          "text": [
            "  0%|          | 0/200 [00:06<?, ?it/s]"
          ]
        },
        {
          "name": "stdout",
          "output_type": "stream",
          "text": [
            "No cookies!\n"
          ]
        },
        {
          "name": "stderr",
          "output_type": "stream",
          "text": [
            "\n"
          ]
        },
        {
          "ename": "NoSuchElementException",
          "evalue": "Message: no such element: Unable to locate element: {\"method\":\"css selector\",\"selector\":\".results-list\"}\n  (Session info: chrome=135.0.7049.96); For documentation on this error, please visit: https://www.selenium.dev/documentation/webdriver/troubleshooting/errors#no-such-element-exception\nStacktrace:\n\tGetHandleVerifier [0x00007FF7FB675305+78597]\n\tGetHandleVerifier [0x00007FF7FB675360+78688]\n\t(No symbol) [0x00007FF7FB4291AA]\n\t(No symbol) [0x00007FF7FB47F149]\n\t(No symbol) [0x00007FF7FB47F3FC]\n\t(No symbol) [0x00007FF7FB4D2467]\n\t(No symbol) [0x00007FF7FB4A712F]\n\t(No symbol) [0x00007FF7FB4CF2BB]\n\t(No symbol) [0x00007FF7FB4A6EC3]\n\t(No symbol) [0x00007FF7FB4703F8]\n\t(No symbol) [0x00007FF7FB471163]\n\tGetHandleVerifier [0x00007FF7FB91EEBD+2870973]\n\tGetHandleVerifier [0x00007FF7FB919668+2848360]\n\tGetHandleVerifier [0x00007FF7FB936943+2967875]\n\tGetHandleVerifier [0x00007FF7FB69014A+188746]\n\tGetHandleVerifier [0x00007FF7FB69842F+222255]\n\tGetHandleVerifier [0x00007FF7FB67D284+111236]\n\tGetHandleVerifier [0x00007FF7FB67D432+111666]\n\tGetHandleVerifier [0x00007FF7FB663559+5465]\n\tBaseThreadInitThunk [0x00007FF86C887374+20]\n\tRtlUserThreadStart [0x00007FF86D1DCC91+33]\n",
          "output_type": "error",
          "traceback": [
            "\u001b[31m---------------------------------------------------------------------------\u001b[39m",
            "\u001b[31mNoSuchElementException\u001b[39m                    Traceback (most recent call last)",
            "\u001b[36mCell\u001b[39m\u001b[36m \u001b[39m\u001b[32mIn[13]\u001b[39m\u001b[32m, line 17\u001b[39m\n\u001b[32m     14\u001b[39m   \u001b[38;5;28mprint\u001b[39m(\u001b[33m\"\u001b[39m\u001b[33mNo cookies!\u001b[39m\u001b[33m\"\u001b[39m)\n\u001b[32m     16\u001b[39m \u001b[38;5;66;03m#busca a lista de todos os resultados da pagina\u001b[39;00m\n\u001b[32m---> \u001b[39m\u001b[32m17\u001b[39m results_page = \u001b[43mdriver\u001b[49m\u001b[43m.\u001b[49m\u001b[43mfind_element\u001b[49m\u001b[43m(\u001b[49m\u001b[43mBy\u001b[49m\u001b[43m.\u001b[49m\u001b[43mCLASS_NAME\u001b[49m\u001b[43m,\u001b[49m\u001b[43mRESULT_LIST_CLASS\u001b[49m\u001b[43m)\u001b[49m\n\u001b[32m     18\u001b[39m \u001b[38;5;66;03m#cria uma lista com todos os elementos que estao dentro de uma tag div e possuem o atributo data-type\u001b[39;00m\n\u001b[32m     19\u001b[39m ids_list = results_page.find_elements_by_xpath(\u001b[33m'\u001b[39m\u001b[33m//div[@data-type]\u001b[39m\u001b[33m'\u001b[39m)\n",
            "\u001b[36mFile \u001b[39m\u001b[32mm:\\Thiago\\WebScrapping\\.venv\\Lib\\site-packages\\selenium\\webdriver\\remote\\webdriver.py:898\u001b[39m, in \u001b[36mWebDriver.find_element\u001b[39m\u001b[34m(self, by, value)\u001b[39m\n\u001b[32m    895\u001b[39m         \u001b[38;5;28;01mraise\u001b[39;00m NoSuchElementException(\u001b[33mf\u001b[39m\u001b[33m\"\u001b[39m\u001b[33mCannot locate relative element with: \u001b[39m\u001b[38;5;132;01m{\u001b[39;00mby.root\u001b[38;5;132;01m}\u001b[39;00m\u001b[33m\"\u001b[39m)\n\u001b[32m    896\u001b[39m     \u001b[38;5;28;01mreturn\u001b[39;00m elements[\u001b[32m0\u001b[39m]\n\u001b[32m--> \u001b[39m\u001b[32m898\u001b[39m \u001b[38;5;28;01mreturn\u001b[39;00m \u001b[38;5;28;43mself\u001b[39;49m\u001b[43m.\u001b[49m\u001b[43mexecute\u001b[49m\u001b[43m(\u001b[49m\u001b[43mCommand\u001b[49m\u001b[43m.\u001b[49m\u001b[43mFIND_ELEMENT\u001b[49m\u001b[43m,\u001b[49m\u001b[43m \u001b[49m\u001b[43m{\u001b[49m\u001b[33;43m\"\u001b[39;49m\u001b[33;43musing\u001b[39;49m\u001b[33;43m\"\u001b[39;49m\u001b[43m:\u001b[49m\u001b[43m \u001b[49m\u001b[43mby\u001b[49m\u001b[43m,\u001b[49m\u001b[43m \u001b[49m\u001b[33;43m\"\u001b[39;49m\u001b[33;43mvalue\u001b[39;49m\u001b[33;43m\"\u001b[39;49m\u001b[43m:\u001b[49m\u001b[43m \u001b[49m\u001b[43mvalue\u001b[49m\u001b[43m}\u001b[49m\u001b[43m)\u001b[49m[\u001b[33m\"\u001b[39m\u001b[33mvalue\u001b[39m\u001b[33m\"\u001b[39m]\n",
            "\u001b[36mFile \u001b[39m\u001b[32mm:\\Thiago\\WebScrapping\\.venv\\Lib\\site-packages\\selenium\\webdriver\\remote\\webdriver.py:429\u001b[39m, in \u001b[36mWebDriver.execute\u001b[39m\u001b[34m(self, driver_command, params)\u001b[39m\n\u001b[32m    427\u001b[39m response = \u001b[38;5;28mself\u001b[39m.command_executor.execute(driver_command, params)\n\u001b[32m    428\u001b[39m \u001b[38;5;28;01mif\u001b[39;00m response:\n\u001b[32m--> \u001b[39m\u001b[32m429\u001b[39m     \u001b[38;5;28;43mself\u001b[39;49m\u001b[43m.\u001b[49m\u001b[43merror_handler\u001b[49m\u001b[43m.\u001b[49m\u001b[43mcheck_response\u001b[49m\u001b[43m(\u001b[49m\u001b[43mresponse\u001b[49m\u001b[43m)\u001b[49m\n\u001b[32m    430\u001b[39m     response[\u001b[33m\"\u001b[39m\u001b[33mvalue\u001b[39m\u001b[33m\"\u001b[39m] = \u001b[38;5;28mself\u001b[39m._unwrap_value(response.get(\u001b[33m\"\u001b[39m\u001b[33mvalue\u001b[39m\u001b[33m\"\u001b[39m, \u001b[38;5;28;01mNone\u001b[39;00m))\n\u001b[32m    431\u001b[39m     \u001b[38;5;28;01mreturn\u001b[39;00m response\n",
            "\u001b[36mFile \u001b[39m\u001b[32mm:\\Thiago\\WebScrapping\\.venv\\Lib\\site-packages\\selenium\\webdriver\\remote\\errorhandler.py:232\u001b[39m, in \u001b[36mErrorHandler.check_response\u001b[39m\u001b[34m(self, response)\u001b[39m\n\u001b[32m    230\u001b[39m         alert_text = value[\u001b[33m\"\u001b[39m\u001b[33malert\u001b[39m\u001b[33m\"\u001b[39m].get(\u001b[33m\"\u001b[39m\u001b[33mtext\u001b[39m\u001b[33m\"\u001b[39m)\n\u001b[32m    231\u001b[39m     \u001b[38;5;28;01mraise\u001b[39;00m exception_class(message, screen, stacktrace, alert_text)  \u001b[38;5;66;03m# type: ignore[call-arg]  # mypy is not smart enough here\u001b[39;00m\n\u001b[32m--> \u001b[39m\u001b[32m232\u001b[39m \u001b[38;5;28;01mraise\u001b[39;00m exception_class(message, screen, stacktrace)\n",
            "\u001b[31mNoSuchElementException\u001b[39m: Message: no such element: Unable to locate element: {\"method\":\"css selector\",\"selector\":\".results-list\"}\n  (Session info: chrome=135.0.7049.96); For documentation on this error, please visit: https://www.selenium.dev/documentation/webdriver/troubleshooting/errors#no-such-element-exception\nStacktrace:\n\tGetHandleVerifier [0x00007FF7FB675305+78597]\n\tGetHandleVerifier [0x00007FF7FB675360+78688]\n\t(No symbol) [0x00007FF7FB4291AA]\n\t(No symbol) [0x00007FF7FB47F149]\n\t(No symbol) [0x00007FF7FB47F3FC]\n\t(No symbol) [0x00007FF7FB4D2467]\n\t(No symbol) [0x00007FF7FB4A712F]\n\t(No symbol) [0x00007FF7FB4CF2BB]\n\t(No symbol) [0x00007FF7FB4A6EC3]\n\t(No symbol) [0x00007FF7FB4703F8]\n\t(No symbol) [0x00007FF7FB471163]\n\tGetHandleVerifier [0x00007FF7FB91EEBD+2870973]\n\tGetHandleVerifier [0x00007FF7FB919668+2848360]\n\tGetHandleVerifier [0x00007FF7FB936943+2967875]\n\tGetHandleVerifier [0x00007FF7FB69014A+188746]\n\tGetHandleVerifier [0x00007FF7FB69842F+222255]\n\tGetHandleVerifier [0x00007FF7FB67D284+111236]\n\tGetHandleVerifier [0x00007FF7FB67D432+111666]\n\tGetHandleVerifier [0x00007FF7FB663559+5465]\n\tBaseThreadInitThunk [0x00007FF86C887374+20]\n\tRtlUserThreadStart [0x00007FF86D1DCC91+33]\n"
          ]
        }
      ],
      "source": [
        "driver.get(VIVA_REAL_LINK)\n",
        "full_results = []\n",
        "\n",
        "num_pages = 200\n",
        "\n",
        "for page in tqdm(range(num_pages)):\n",
        "  #sleep necessario para garantir o carregamento da pagina\n",
        "  sleep(6)\n",
        "\n",
        "  #verificar se nao tem pop-up de cookie para aceitar\n",
        "  try:\n",
        "    driver.find_element(By.CLASS_NAME, \"cookie-notifier__cta\").click()\n",
        "  except:\n",
        "    print(\"No cookies!\")\n",
        "\n",
        "  #busca a lista de todos os resultados da pagina\n",
        "  results_page = driver.find_element(By.CLASS_NAME,RESULT_LIST_CLASS)\n",
        "  #cria uma lista com todos os elementos que estao dentro de uma tag div e possuem o atributo data-type\n",
        "  ids_list = results_page.find_elements_by_xpath('//div[@data-type]')\n",
        "  for j in range(len(ids_list)):\n",
        "\n",
        "    #coleta o id do ap\n",
        "    url = ids_list[j].find_element(By.CLASS_NAME,'js-card-title').get_attribute('href')\n",
        "    id = url.split(\"id-\")[-1][:-1]\n",
        "\n",
        "    #essa validacao existe para pular o card de anuncio que existe\n",
        "    #caso seja ap, captura o endereco\n",
        "    try:\n",
        "      address = ids_list[j].find_element(By.CLASS_NAME,ADDRESS_CLASS).text\n",
        "    except:\n",
        "      continue\n",
        "\n",
        "    #recebe o elemento onde tem a informacao da area\n",
        "    area_class = ids_list[j].find_element(By.CLASS_NAME,AREA_CLASS)\n",
        "    #captura apenas o numero da area\n",
        "    area = area_class.find_element(By.CLASS_NAME,VALUE_CLASS).text\n",
        "\n",
        "    #recebe o elemento onde tem a informacao de quartos\n",
        "    room_class = ids_list[j].find_element(By.CLASS_NAME,ROOM_CLASS)\n",
        "    #captura apenas o numero de quartos\n",
        "    room = room_class.find_element(By.CLASS_NAME,VALUE_CLASS).text\n",
        "\n",
        "    #recebe o elemento onde tem a informacao de banheiros\n",
        "    bathroom_class = ids_list[j].find_element(By.CLASS_NAME,BATHROOM_CLASS)\n",
        "    #captura apenas o numero de banheiros\n",
        "    bathroom = bathroom_class.find_element(By.CLASS_NAME,VALUE_CLASS).text\n",
        "\n",
        "    #recebe o elemento onde tem a informacao de vagas\n",
        "    garage_class = ids_list[j].find_element(By.CLASS_NAME,GARAGE_CLASS)\n",
        "    #captura apenas o numero de vagas\n",
        "    garage = garage_class.find_element(By.CLASS_NAME,VALUE_CLASS).text\n",
        "\n",
        "    #verifica se existem extras e captura\n",
        "    try:\n",
        "      amenities = ids_list[j].find_element(By.CLASS_NAME,AMENITIES_CLASS).text\n",
        "    except:\n",
        "      amenities = None\n",
        "\n",
        "    #recebe o elemento onde tem a informacao do preco do aluguel\n",
        "    price_class = ids_list[j].find_element(By.CLASS_NAME,PRICE_CLASS)\n",
        "    #captura o valor do aluguel\n",
        "    price = price_class.find_element_by_tag_name('p').text\n",
        "\n",
        "    #verifica se existe valor de condominio e captura\n",
        "    try:\n",
        "      condo = ids_list[j].find_element(By.CLASS_NAME,CONDO_CLASS).text\n",
        "    except:\n",
        "      condo = None\n",
        "\n",
        "    #adiciona um dicionario com todas as informacoes do ap na lista final\n",
        "    full_results.append({'id': id,\n",
        "                         'address': address,\n",
        "                         'area': area,\n",
        "                         'room': room,\n",
        "                         'bathroom': bathroom,\n",
        "                         'garage': garage,\n",
        "                         'amenities': amenities,\n",
        "                         'price': price,\n",
        "                         'condo': condo})\n",
        "\n",
        "  #recebe o elemento onde tem a troca de página e clica\n",
        "  next_page = driver.find_element(By.XPATH, CHANGE_PAGE_XPATH)\n",
        "  #print(next_page)\n",
        "  next_page.click()\n",
        "\n",
        "df = pd.DataFrame(full_results)\n",
        "df.to_csv('full_results.csv', index=False)\n",
        "driver.close()"
      ]
    }
  ],
  "metadata": {
    "colab": {
      "name": "web_scrapping_viva_real.ipynb",
      "provenance": []
    },
    "kernelspec": {
      "display_name": ".venv",
      "language": "python",
      "name": "python3"
    },
    "language_info": {
      "codemirror_mode": {
        "name": "ipython",
        "version": 3
      },
      "file_extension": ".py",
      "mimetype": "text/x-python",
      "name": "python",
      "nbconvert_exporter": "python",
      "pygments_lexer": "ipython3",
      "version": "3.12.7"
    }
  },
  "nbformat": 4,
  "nbformat_minor": 0
}
